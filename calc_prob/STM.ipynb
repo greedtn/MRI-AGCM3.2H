{
 "cells": [
  {
   "cell_type": "code",
   "execution_count": 4,
   "metadata": {},
   "outputs": [
    {
     "name": "stdout",
     "output_type": "stream",
     "text": [
      "HPA_KF\n"
     ]
    }
   ],
   "source": [
    "\"\"\"\n",
    "LWMの出力結果を用いて, STMの極値増大確率を算出する.\n",
    "\"\"\"\n",
    "\n",
    "import func\n",
    "from csv import reader\n",
    "import matplotlib.pyplot as plt\n",
    "import numpy as np\n",
    "\n",
    "def calc_p(past_rv, past_pro, f_rv, f_pro):\n",
    "    \"\"\"\n",
    "    将来分布の中で, hsより大きい値を取る確率を合計する\n",
    "    \"\"\"\n",
    "    P = 0\n",
    "    for i in range(len(past_rv)):\n",
    "        p = 0\n",
    "        for j in range(len(f_rv)):\n",
    "            if f_rv[j] > past_rv[i]:\n",
    "                p += f_pro[j]\n",
    "        P += past_pro[i] * p\n",
    "    return P * 100\n",
    "\n",
    "def GP(xi, sgm, y):\n",
    "    \"\"\"\n",
    "    GPの1-CDF\n",
    "    \"\"\"\n",
    "    if y <= 0:\n",
    "        return 1\n",
    "    else:\n",
    "        return max(0, (1 + xi * y / sgm)) ** (-1/xi)\n",
    "\n",
    "# 描画用の画像を用意\n",
    "fig = plt.figure(figsize=(18, 6))\n",
    "MODEL = ['KF', 'YS']\n",
    "for model_num in range(len(MODEL)):\n",
    "    for num in range(2):\n",
    "        model = MODEL[model_num]\n",
    "        if num == 0:\n",
    "            model = 'HPA_' + model\n",
    "        else:\n",
    "            model = 'HFA_' + model + '_c0'\n",
    "\n",
    "        print(model)\n",
    "\n",
    "        with open('../Ex_csv/' + model + '_STM.csv', 'r') as csv_file:\n",
    "            csv_reader = reader(csv_file)\n",
    "            STM = list(csv_reader)\n",
    "        \n",
    "        POT_DATA = sorted([float(s[0]) for s in STM], reverse=True)\n",
    "        u = POT_DATA[-1]\n",
    "        if num == 0:\n",
    "            past_rv, past_pro, p_xi, p_sgm = func.lwm_gpd(data=POT_DATA, error=[0.005], thr=u, n=219143, n0=len(POT_DATA), con=0.95)\n",
    "            u_p = u\n",
    "        else:\n",
    "            f_rv, f_pro, f_xi, f_sgm =  func.lwm_gpd(data=POT_DATA, error=[0.005], thr=u, n=219143, n0=len(POT_DATA), con=0.95)\n",
    "            u_f = u\n",
    "        \n",
    "    # P = calc_p(past_rv, past_pro, f_rv, f_pro)\n",
    "    # print(P, '%の確率で極値増加')\n",
    "    ax = fig.add_subplot(1, 2, model_num + 1)\n",
    "    # MLのplot\n",
    "    x = np.linspace(1, 50, 1000)\n",
    "    ax.plot(x, [GP(xi=p_xi[1], sgm=p_sgm[1], y=x_ - u_p) for x_ in x], color='black', linestyle=\"dashdot\", label='Present')\n",
    "    ax.plot(x, [GP(xi=p_xi[0], sgm=p_sgm[0], y=x_ - u_p) for x_ in x], color='red', linestyle=\"dashdot\", label='Present' + '(95%)')\n",
    "    ax.plot(x, [GP(xi=p_xi[2], sgm=p_sgm[2], y=x_ - u_p) for x_ in x], color='red', linestyle=\"dashdot\")\n",
    "    ax.plot(x, [GP(xi=f_xi[1], sgm=f_sgm[1], y=x_ - u_f) for x_ in x], color='black', label='Future')\n",
    "    ax.plot(x, [GP(xi=f_xi[0], sgm=f_sgm[0], y=x_ - u_f) for x_ in x], color='red', label='Future' + '(95%)')\n",
    "    ax.plot(x, [GP(xi=f_xi[2], sgm=f_sgm[2], y=x_ - u_f) for x_ in x], color='red')\n",
    "    ax.legend(fontsize=20)\n",
    "    ax.set_xlim((15, 50))\n",
    "    ax.set_ylim((0.005, 1))\n",
    "    ax.set_xlabel(\"Hs[m]\", fontsize=18, labelpad=1)\n",
    "    ax.set_ylabel(\"1-CDF[per year]\", fontsize=18, labelpad=1)\n",
    "    ax.tick_params(axis='x', labelsize=18)\n",
    "    ax.tick_params(axis='y', labelsize=18)\n",
    "    ax.set_title(model, fontsize=24)\n",
    "    ax.set_yscale('log')\n",
    "    ax.grid(which='major',color='black',linestyle='-', alpha=0.3)\n",
    "    ax.grid(which='minor',color='black',linestyle='dotted', alpha=0.3)\n",
    "fig.subplots_adjust(left=0.07, right=0.93, bottom=0.05, top=0.95) #この1行を入れる\n",
    "plt.savefig('../img/stm_cdf.png')\n",
    "plt.show()"
   ]
  },
  {
   "cell_type": "code",
   "execution_count": null,
   "metadata": {},
   "outputs": [],
   "source": []
  }
 ],
 "metadata": {
  "interpreter": {
   "hash": "aee8b7b246df8f9039afb4144a1f6fd8d2ca17a180786b69acc140d282b71a49"
  },
  "kernelspec": {
   "display_name": "Python 3.8.5 64-bit",
   "language": "python",
   "name": "python3"
  },
  "language_info": {
   "codemirror_mode": {
    "name": "ipython",
    "version": 3
   },
   "file_extension": ".py",
   "mimetype": "text/x-python",
   "name": "python",
   "nbconvert_exporter": "python",
   "pygments_lexer": "ipython3",
   "version": "3.8.5"
  },
  "orig_nbformat": 4
 },
 "nbformat": 4,
 "nbformat_minor": 2
}
