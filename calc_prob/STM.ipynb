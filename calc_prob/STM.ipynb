{
 "cells": [
  {
   "cell_type": "code",
   "execution_count": 1,
   "metadata": {},
   "outputs": [
    {
     "name": "stdout",
     "output_type": "stream",
     "text": [
      "HPA_KF\n",
      "最尤推定 ξ: -0.384615384615385 σ: 8.242973735991995 RV: 34.770068637319284\n",
      "HFA_KF_c0\n",
      "最尤推定 ξ: -0.384615384615385 σ: 9.579701599703602 RV: 37.695729469743085\n",
      "90.50025793755381 %の確率で極値増加\n",
      "HPA_YS\n",
      "最尤推定 ξ: -0.47267547267547305 σ: 7.311809435150502 RV: 29.703335299846856\n",
      "HFA_YS_c0\n",
      "最尤推定 ξ: -0.35871535871535914 σ: 6.991974642631229 RV: 32.0822668850619\n",
      "89.50702541111518 %の確率で極値増加\n"
     ]
    },
    {
     "data": {
      "text/plain": [
       "<Figure size 720x1008 with 0 Axes>"
      ]
     },
     "metadata": {},
     "output_type": "display_data"
    }
   ],
   "source": [
    "\"\"\"\n",
    "LWMの出力結果を用いて, 極値増大確率を算出する.\n",
    "\n",
    "\"\"\"\n",
    "\n",
    "import func\n",
    "from csv import reader\n",
    "import matplotlib.pyplot as plt\n",
    "import math\n",
    "\n",
    "def calc_p(past_rv, past_pro, f_rv, f_pro):\n",
    "    \"\"\"\n",
    "    将来分布の中で, hsより大きい値を取る確率を合計する\n",
    "    \"\"\"\n",
    "    P = 0\n",
    "    for i in range(len(past_rv)):\n",
    "        p = 0\n",
    "        for j in range(len(f_rv)):\n",
    "            if f_rv[j] > past_rv[i]:\n",
    "                p += f_pro[j]\n",
    "        P += past_pro[i] * p\n",
    "    return P * 100\n",
    "\n",
    "def cdf(rv, pro):\n",
    "    Hs = []\n",
    "    SUM = []\n",
    "    sum = 1\n",
    "    s = [(rv[i], pro[i]) for i in range(len(rv))]\n",
    "    s.sort()\n",
    "    for i in range(len(rv)):\n",
    "        sum -= s[i][1]\n",
    "        SUM.append(sum)\n",
    "        Hs.append(s[i][0])\n",
    "    return Hs, SUM\n",
    "\n",
    "# 描画用の画像を用意\n",
    "fig = plt.figure(figsize=(10, 14))\n",
    "\n",
    "MODEL = ['KF', 'YS']\n",
    "DATA_CNT = 100\n",
    "\n",
    "for model_num in range(len(MODEL)):\n",
    "    for num in range(2):\n",
    "        model = MODEL[model_num]\n",
    "        if num == 0:\n",
    "            model = 'HPA_' + model\n",
    "        else:\n",
    "            model = 'HFA_' + model + '_c0'\n",
    "\n",
    "        print(model)\n",
    "\n",
    "        with open('../pot_csv(100)(thr=6)/' + model + '_POT_DATA.csv', 'r') as csv_file:\n",
    "            csv_reader = reader(csv_file)\n",
    "            POT = list(csv_reader)\n",
    "        with open('../pot_csv(100)(thr=6)/' + model + '_POT_INDEX.csv', 'r') as csv_file:\n",
    "            csv_reader = reader(csv_file)\n",
    "            POT_INDEX = list(csv_reader)\n",
    "\n",
    "        DATA = []  # [Hsのindex, Hs]の配列\n",
    "        for i in range(len(POT)):\n",
    "            for j in range(len(POT[i])):\n",
    "                DATA.append([int(POT_INDEX[i][j]), float(POT[i][j])])\n",
    "        \n",
    "        # [Hsのindexがsortされる(小さい順)]\n",
    "        DATA.sort()\n",
    "\n",
    "        last_index = 0\n",
    "        max_val = 0\n",
    "\n",
    "        EVENT_POT = [[]]  # イベントごとのPOTを収納\n",
    "        for data in DATA:\n",
    "            if data[1] > 15.0:\n",
    "                if data[0] > last_index + 24 * 7:\n",
    "                    EVENT_POT.append([data[0], data[1]])\n",
    "                    last_index = data[0]\n",
    "                    max_val = data[1]\n",
    "                else:\n",
    "                    if data[1] > max_val:\n",
    "                        EVENT_POT[-1] = [data[0], data[1]]\n",
    "                        last_index = data[0]\n",
    "                        max_val = data[1]\n",
    "        \n",
    "        EVENT_POT.pop(0)\n",
    "\n",
    "        POT_DATA = []  # 空間最大波高\n",
    "        for pot in EVENT_POT:\n",
    "            POT_DATA.append(math.floor(pot[1] * 100) / 100)\n",
    "        # 大きい順にsort\n",
    "        POT_DATA.sort(reverse=True)\n",
    "        \n",
    "        if num == 0:\n",
    "            past_rv, past_pro, x, s = func.lwm_gpd(data=POT_DATA, error=[0.005], thr=POT_DATA[-1], n=219143*79*79, n0=len(POT_DATA), con=1.0)\n",
    "        else:\n",
    "            f_rv, f_pro, x, s =  func.lwm_gpd(data=POT_DATA, error=[0.005], thr=POT_DATA[-1], n=219143*79*79, n0=len(POT_DATA), con=1.0)\n",
    "        \n",
    "    P = calc_p(past_rv, past_pro, f_rv, f_pro)\n",
    "    print(P, '%の確率で極値増加')\n",
    "    "
   ]
  },
  {
   "cell_type": "code",
   "execution_count": null,
   "metadata": {},
   "outputs": [],
   "source": []
  }
 ],
 "metadata": {
  "interpreter": {
   "hash": "aee8b7b246df8f9039afb4144a1f6fd8d2ca17a180786b69acc140d282b71a49"
  },
  "kernelspec": {
   "display_name": "Python 3.8.5 64-bit",
   "language": "python",
   "name": "python3"
  },
  "language_info": {
   "codemirror_mode": {
    "name": "ipython",
    "version": 3
   },
   "file_extension": ".py",
   "mimetype": "text/x-python",
   "name": "python",
   "nbconvert_exporter": "python",
   "pygments_lexer": "ipython3",
   "version": "3.8.5"
  },
  "orig_nbformat": 4
 },
 "nbformat": 4,
 "nbformat_minor": 2
}
