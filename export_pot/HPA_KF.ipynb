{
 "cells": [
  {
   "cell_type": "code",
   "execution_count": null,
   "metadata": {},
   "outputs": [],
   "source": [
    "import func\n",
    "func.calc_pot_all(thr=9.0, dir_path=\"/Volumes/HDCL-UT/MRI-AGCM3.2H_WW3_wave/HPA_KF/\", param_name=\"103\", model_name='HPA_KF')"
   ]
  }
 ],
 "metadata": {
  "interpreter": {
   "hash": "e609466fee9f3de603101709f259115ee6e19bf3dee13c5cf4097e8a685b638f"
  },
  "kernelspec": {
   "display_name": "Python 3.8.8 64-bit ('base': conda)",
   "language": "python",
   "name": "python3"
  },
  "language_info": {
   "codemirror_mode": {
    "name": "ipython",
    "version": 3
   },
   "file_extension": ".py",
   "mimetype": "text/x-python",
   "name": "python",
   "nbconvert_exporter": "python",
   "pygments_lexer": "ipython3",
   "version": "3.8.8"
  },
  "orig_nbformat": 4
 },
 "nbformat": 4,
 "nbformat_minor": 2
}
