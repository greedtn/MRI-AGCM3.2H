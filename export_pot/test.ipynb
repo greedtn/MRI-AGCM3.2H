{
 "cells": [
  {
   "cell_type": "code",
   "execution_count": null,
   "metadata": {},
   "outputs": [],
   "source": [
    "import func\n",
    "func.calc_pot_all(thr=9.0, dir_path='/Volumes/HDCL-UT/MRI-AGCM3.2H_WW3_wave/HFA_AS_c0/', param_name='103', model_name='HFA_AS_c0')"
   ]
  }
 ],
 "metadata": {
  "language_info": {
   "name": "python"
  },
  "orig_nbformat": 4
 },
 "nbformat": 4,
 "nbformat_minor": 2
}
