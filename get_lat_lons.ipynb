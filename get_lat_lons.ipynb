{
 "cells": [
  {
   "cell_type": "code",
   "execution_count": null,
   "metadata": {},
   "outputs": [],
   "source": [
    "import pygrib\n",
    "import csv\n",
    "\n",
    "grbs = pygrib.open('/Volumes/HDCL-UT/MRI-AGCM3.2H_WW3_wave/HPA_YS/Jpn_30min.1979010100.grib')\n",
    "lats, lons = grbs[1].latlons()\n",
    "with open('lats.csv', 'w') as file:\n",
    "    writer = csv.writer(file, lineterminator='\\n')\n",
    "    writer.writerows(lats)\n",
    "with open('lons.csv', 'w') as file:\n",
    "    writer = csv.writer(file, lineterminator='\\n')\n",
    "    writer.writerows(lons)"
   ]
  }
 ],
 "metadata": {
  "language_info": {
   "name": "python"
  },
  "orig_nbformat": 4
 },
 "nbformat": 4,
 "nbformat_minor": 2
}
