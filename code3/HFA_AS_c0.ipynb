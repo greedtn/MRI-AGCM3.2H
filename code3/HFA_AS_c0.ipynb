{
 "cells": [
  {
   "cell_type": "code",
   "execution_count": null,
   "metadata": {},
   "outputs": [],
   "source": [
    "import func\n",
    "func.calc_pot_all(thr=9.0, dir_path=\"/Volumes/HDCL-UT/MRI-AGCM3.2H_WW3_wave/HFA_AS_c0/\", param_name=\"103\", output_pot=\"../csv2/HFA_AS_c0_POT.csv\", output_pot_idx=\"../csv2/HFA_AS_c0_POT_IDX.csv\", output_cnt=\"../csv2/HFA_AS_c0_CNT.csv\")"
   ]
  },
  {
   "cell_type": "code",
   "execution_count": null,
   "metadata": {},
   "outputs": [],
   "source": []
  }
 ],
 "metadata": {
  "interpreter": {
   "hash": "e609466fee9f3de603101709f259115ee6e19bf3dee13c5cf4097e8a685b638f"
  },
  "kernelspec": {
   "display_name": "Python 3.8.8 64-bit ('base': conda)",
   "language": "python",
   "name": "python3"
  },
  "language_info": {
   "codemirror_mode": {
    "name": "ipython",
    "version": 3
   },
   "file_extension": ".py",
   "mimetype": "text/x-python",
   "name": "python",
   "nbconvert_exporter": "python",
   "pygments_lexer": "ipython3",
   "version": "3.8.12"
  },
  "orig_nbformat": 4
 },
 "nbformat": 4,
 "nbformat_minor": 2
}
