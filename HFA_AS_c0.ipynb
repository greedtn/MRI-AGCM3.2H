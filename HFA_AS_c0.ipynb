{
 "cells": [
  {
   "cell_type": "code",
   "execution_count": null,
   "metadata": {},
   "outputs": [],
   "source": [
    "import pygrib\n",
    "import os\n",
    "import csv\n",
    "\n",
    "def calc_pod(thr, dir_path, param_name, output_csv):\n",
    "\n",
    "    THR = thr  # 閾値\n",
    "    POD = [0]  # 閾値を超えるデータ(POD[-1]を使用するために初期値を設定)\n",
    "    POD_IDX = [-168]  # 閾値を超えるデータのindex(POD_IDX[-1]を使用するために初期値を設定)\n",
    "    CNT = 0  # indexカウント用の変数\n",
    "\n",
    "    DIR_PATH = dir_path\n",
    "    DIR = os.listdir(DIR_PATH)\n",
    "\n",
    "    for filename in DIR:\n",
    "        print(f'{filename}...now')\n",
    "        grbs = pygrib.open(DIR_PATH + filename)\n",
    "        grbs = grbs.select(parameterName=param_name)\n",
    "        for grb in grbs:\n",
    "            CNT += 1\n",
    "            # まずは1地点でやるために, (20, 20)で試す\n",
    "            # maskされた部分は0で埋める\n",
    "            data = grb.data()[0].filled(fill_value=0)[20][20]\n",
    "            # decluster\n",
    "            if data > THR:\n",
    "                if CNT > POD_IDX[-1] + 168:\n",
    "                    POD.append(data)\n",
    "                    POD_IDX.append(CNT)\n",
    "                else:\n",
    "                    if data > POD[-1]:\n",
    "                        POD[-1] = data\n",
    "                        POD_IDX[-1] = CNT\n",
    "\n",
    "    # 初期値を削除\n",
    "    POD.pop(0)\n",
    "    POD_IDX.pop(0)\n",
    "\n",
    "    # 書き出し\n",
    "    f = open(output_csv, 'w')\n",
    "    writer = csv.writer(f)\n",
    "    writer.writerow(POD)\n",
    "    writer.writerow(POD_IDX)\n",
    "    f.close()\n",
    "\n",
    "    return POD, POD_IDX, CNT, len(POD)"
   ]
  },
  {
   "cell_type": "code",
   "execution_count": null,
   "metadata": {},
   "outputs": [],
   "source": [
    "from csv import reader\n",
    "import matplotlib.pyplot as plt\n",
    "\n",
    "def plot(filename, output_name):\n",
    "    with open(filename, 'r') as csv_file:\n",
    "        csv_reader = reader(csv_file)\n",
    "        l = list(csv_reader)\n",
    "        x = []\n",
    "        y = []\n",
    "        for i in range(len(l[0])):\n",
    "            x.append(l[1][i])\n",
    "            y.append(float(l[0][i]))\n",
    "\n",
    "    fig = plt.figure()\n",
    "    plt.plot(x, y, 'o')\n",
    "    plt.xticks([])\n",
    "    plt.xlabel(\"time\")\n",
    "    plt.ylabel(\"Hs[m]\")\n",
    "    plt.title(\"Peak Over Threshold of (20, 20)\")\n",
    "    fig.savefig(output_name)\n",
    "    plt.show()\n",
    "\n",
    "    return"
   ]
  },
  {
   "cell_type": "code",
   "execution_count": null,
   "metadata": {},
   "outputs": [],
   "source": [
    "rv_min, RV, rv_max = lwm_gpd(data=y, error=[0.005], thr=8.0, period=31, RP=[100], n=271751, n0=217, con=0.95)"
   ]
  },
  {
   "cell_type": "code",
   "execution_count": null,
   "metadata": {},
   "outputs": [],
   "source": [
    "# y軸方向にのみerrorbarを表示\n",
    "plt.figure(figsize=(10,7))\n",
    "plt.errorbar(x=[1, 2], y=[17.53962476810958, 20.283679938765353], yerr = np.array([[17.53962476810958 - 13.984364679336718, 20.283679938765353 - 13.519974054067696], [24.48950417376913 - 17.53962476810958, 40.69906696918045 - 20.283679938765353]]), capsize=5, fmt='o', markersize=10, ecolor='black', markeredgecolor = \"black\", color='w')\n",
    "plt.plot([RV],  color = 'black', linestyle=':')\n",
    "plt.ylabel('Hs[m]')\n",
    "plt.title('100 year RV of 95% confidence interval')\n",
    "plt.xlim((0.75, 2.25))\n",
    "plt.savefig('Hs_error_bar_20_20.png')"
   ]
  }
 ],
 "metadata": {
  "language_info": {
   "name": "python"
  },
  "orig_nbformat": 4
 },
 "nbformat": 4,
 "nbformat_minor": 2
}
