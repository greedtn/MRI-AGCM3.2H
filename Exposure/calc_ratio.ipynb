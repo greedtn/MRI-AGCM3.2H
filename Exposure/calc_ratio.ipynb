{
 "cells": [
  {
   "cell_type": "code",
   "execution_count": 2,
   "metadata": {},
   "outputs": [],
   "source": [
    "import pygrib\n",
    "import os\n",
    "import csv\n",
    "import numpy as np\n",
    "import math\n",
    "from csv import reader\n",
    "\n",
    "with open('../lats.csv', 'r') as csv_file:\n",
    "    csv_reader = reader(csv_file)\n",
    "    lats = list(csv_reader)\n",
    "with open('../lons.csv', 'r') as csv_file:\n",
    "    csv_reader = reader(csv_file)\n",
    "    lons = list(csv_reader)\n",
    "\n",
    "for i in range(79):\n",
    "    for j in range(79):\n",
    "        lats[i][j] = float(lats[i][j])\n",
    "        lons[i][j] = float(lons[i][j])\n",
    "\n",
    "MODEL = ['HPA_KF', 'HFA_KF_c0', 'HPA_YS', 'HFA_YS_c0']\n",
    "\n",
    "for i in range(len(MODEL)):\n",
    "    model = MODEL[i]\n",
    "    with open('../Ex_csv/' + model + '_ex.csv', 'r') as csv_file:\n",
    "        csv_reader = reader(csv_file)\n",
    "        STM = list(csv_reader)\n",
    "    with open('../Ex_csv/' + model + '_ex_idx.csv', 'r') as csv_file:\n",
    "        csv_reader = reader(csv_file)\n",
    "        INDEX = list(csv_reader)\n",
    "    for j in range(len(INDEX[0])):\n",
    "        mx = 0\n",
    "        for k in range(79 * 79):\n",
    "            mx = max(mx, float(STM[k][j]))\n",
    "        for k in range(79 * 79):\n",
    "            STM[k][j] = float(STM[k][j]) / mx\n",
    "    \n",
    "    with open('../Ex_csv/' + model + '_ex_ratio.csv', 'w') as file:\n",
    "        writer = csv.writer(file, lineterminator='\\n')\n",
    "        writer.writerows(STM)"
   ]
  },
  {
   "cell_type": "code",
   "execution_count": null,
   "metadata": {},
   "outputs": [],
   "source": []
  }
 ],
 "metadata": {
  "interpreter": {
   "hash": "aee8b7b246df8f9039afb4144a1f6fd8d2ca17a180786b69acc140d282b71a49"
  },
  "kernelspec": {
   "display_name": "Python 3.8.5 64-bit",
   "language": "python",
   "name": "python3"
  },
  "language_info": {
   "codemirror_mode": {
    "name": "ipython",
    "version": 3
   },
   "file_extension": ".py",
   "mimetype": "text/x-python",
   "name": "python",
   "nbconvert_exporter": "python",
   "pygments_lexer": "ipython3",
   "version": "3.8.12"
  },
  "orig_nbformat": 4
 },
 "nbformat": 4,
 "nbformat_minor": 2
}
